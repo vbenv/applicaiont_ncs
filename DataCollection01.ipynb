{
 "cells": [
  {
   "cell_type": "code",
   "execution_count": 1,
   "id": "919fb168",
   "metadata": {},
   "outputs": [],
   "source": [
    "# 웹 스크레이핑 (웹 크롤링): 웹사이트에서 직접 텍스트 데이터를 수집하는 방법\n",
    "\n",
    "# RSS 피드 이용: RSS는 웹사이트의 업데이트를 XML 형식으로 제공하는 서비스\n",
    "\n",
    "# OCR(Optical Character Recognition): 이미지나 PDF 등에서 텍스트를 추출\n",
    "\n",
    "# 개인화된 데이터(전자메일, 소셜미디어, 채팅 기록 등): 사용자 동의 하에 개인화된 텍스트 데이터도 유용한 자료가 됨\n",
    "\n",
    "# 기업/기관 DB 및 로그 파일: 기업이나 기관에서 보유하고 있는 DB나 로그 파일에도 유용한 텍스트 정보가 많을 수 있음.\n",
    "\n",
    "# API 이용: Twitter, Reddit 등의 플랫폼에서는 API를 제공하여 사용자가 쉽게 데이터를 수집\n",
    "\n",
    "# 공개 데이터셋 이용: 이미 공개된 NLP, AI, ML등의 데이터셋을 활용"
   ]
  },
  {
   "cell_type": "code",
   "execution_count": 2,
   "id": "f2cdf612",
   "metadata": {},
   "outputs": [],
   "source": [
    "# import urllib.request\n",
    "\n",
    "# url = 'https://www.inha.ac.kr/sites/kr/images/logo.png'\n",
    "# urllib.request.urlretrieve(url, 'inha.png')\n",
    "# print(\"saved!\")\n",
    "     "
   ]
  },
  {
   "cell_type": "code",
   "execution_count": null,
   "id": "b3be38bb",
   "metadata": {},
   "outputs": [
    {
     "name": "stdout",
     "output_type": "stream",
     "text": [
      "saved!\n"
     ]
    }
   ],
   "source": [
    "# import urllib.request\n",
    "\n",
    "# url = 'https://www.inha.ac.kr/sites/kr/images/logo.png'\n",
    "# logo = urllib.request.urlopen(url).read()\n",
    "\n",
    "# with open('inha.png', 'wb') as fp:\n",
    "#   fp.write(logo)\n",
    "#   print(\"saved!\")"
   ]
  },
  {
   "cell_type": "code",
   "execution_count": null,
   "id": "79773d22",
   "metadata": {},
   "outputs": [],
   "source": [
    "# import urllib.request\n",
    "# import urllib.parse\n",
    "\n",
    "# api = 'https://www.kma.go.kr/weather/forecast/mid-term-rss3.jsp'\n",
    "# id = input('Input local code : ')  # 108, 109, 105\n",
    "# values = {'stnId' : id}\n",
    "# parameters = urllib.parse.urlencode(values)\n",
    "# url = api + '?' + parameters\n",
    "# #print(url)\n",
    "# urls = urllib.request.urlopen(url).read()\n",
    "# texts = urls.decode('utf-8')\n",
    "# #print(texts)"
   ]
  },
  {
   "cell_type": "code",
   "execution_count": 10,
   "id": "da7dced0",
   "metadata": {},
   "outputs": [
    {
     "ename": "AttributeError",
     "evalue": "'NoneType' object has no attribute 'head'",
     "output_type": "error",
     "traceback": [
      "\u001b[0;31m---------------------------------------------------------------------------\u001b[0m",
      "\u001b[0;31mAttributeError\u001b[0m                            Traceback (most recent call last)",
      "Cell \u001b[0;32mIn[10], line 17\u001b[0m\n\u001b[1;32m      3\u001b[0m html \u001b[38;5;241m=\u001b[39m \u001b[38;5;124m\"\"\"\u001b[39m\n\u001b[1;32m      4\u001b[0m \n\u001b[1;32m      5\u001b[0m \n\u001b[0;32m   (...)\u001b[0m\n\u001b[1;32m     13\u001b[0m \n\u001b[1;32m     14\u001b[0m \u001b[38;5;124m\"\"\"\u001b[39m\n\u001b[1;32m     16\u001b[0m soup \u001b[38;5;241m=\u001b[39m BeautifulSoup(html, \u001b[38;5;124m'\u001b[39m\u001b[38;5;124mhtml.parser\u001b[39m\u001b[38;5;124m'\u001b[39m)\n\u001b[0;32m---> 17\u001b[0m t \u001b[38;5;241m=\u001b[39m \u001b[43msoup\u001b[49m\u001b[38;5;241;43m.\u001b[39;49m\u001b[43mhtml\u001b[49m\u001b[38;5;241;43m.\u001b[39;49m\u001b[43mhead\u001b[49m\u001b[38;5;241m.\u001b[39mtitle\n\u001b[1;32m     18\u001b[0m h1 \u001b[38;5;241m=\u001b[39m soup\u001b[38;5;241m.\u001b[39mhtml\u001b[38;5;241m.\u001b[39mbody\u001b[38;5;241m.\u001b[39mh1\u001b[38;5;241m.\u001b[39mstring\n\u001b[1;32m     19\u001b[0m p1 \u001b[38;5;241m=\u001b[39m soup\u001b[38;5;241m.\u001b[39mhtml\u001b[38;5;241m.\u001b[39mbody\u001b[38;5;241m.\u001b[39mp\n",
      "\u001b[0;31mAttributeError\u001b[0m: 'NoneType' object has no attribute 'head'"
     ]
    }
   ],
   "source": [
    "from bs4 import BeautifulSoup\n",
    "\n",
    "html = \"\"\"\n",
    "\n",
    "\n",
    "스크레이핑 실습\n",
    "\n",
    "\n",
    "인하대학교\n",
    "웹스크레이핑\n",
    "넘파이, 판다스, NLP ... \n",
    "\n",
    "\n",
    "\"\"\"\n",
    "\n",
    "soup = BeautifulSoup(html, 'html.parser')\n",
    "t = soup.html.head.title\n",
    "h1 = soup.html.body.h1.string\n",
    "p1 = soup.html.body.p\n",
    "p2 = p1.next_sibling.next_sibling\n",
    "\n",
    "print(p1.string)\n",
    "print(p2.string)\n",
    "print(h1)\n",
    "print(t)\n",
    "print(t.string)"
   ]
  },
  {
   "cell_type": "code",
   "execution_count": null,
   "id": "dcc26c3e",
   "metadata": {},
   "outputs": [],
   "source": []
  }
 ],
 "metadata": {
  "kernelspec": {
   "display_name": "sun_chnn",
   "language": "python",
   "name": "python3"
  },
  "language_info": {
   "codemirror_mode": {
    "name": "ipython",
    "version": 3
   },
   "file_extension": ".py",
   "mimetype": "text/x-python",
   "name": "python",
   "nbconvert_exporter": "python",
   "pygments_lexer": "ipython3",
   "version": "3.10.14"
  }
 },
 "nbformat": 4,
 "nbformat_minor": 5
}
